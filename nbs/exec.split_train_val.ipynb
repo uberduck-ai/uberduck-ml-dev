{
 "cells": [
  {
   "cell_type": "markdown",
   "id": "c90fdb07",
   "metadata": {},
   "source": [
    "<h1>Table of Contents<span class=\"tocSkip\"></span></h1>\n",
    "<div class=\"toc\"><ul class=\"toc-item\"><li><span><a href=\"#uberduck_ml_dev.exec.split_train_val\" data-toc-modified-id=\"uberduck_ml_dev.exec.split_train_val-1\"><span class=\"toc-item-num\">1&nbsp;&nbsp;</span>uberduck_ml_dev.exec.split_train_val</a></span></li></ul></div>"
   ]
  },
  {
   "cell_type": "markdown",
   "id": "9484876b",
   "metadata": {},
   "source": [
    "<h1>Table of Contents<span class=\"tocSkip\"></span></h1>\n",
    "<div class=\"toc\"><ul class=\"toc-item\"><li><span><a href=\"#uberduck_ml_dev.exec.split_train_val\" data-toc-modified-id=\"uberduck_ml_dev.exec.split_train_val-1\"><span class=\"toc-item-num\">1&nbsp;&nbsp;</span>uberduck_ml_dev.exec.split_train_val</a></span></li></ul></div>"
   ]
  },
  {
   "cell_type": "markdown",
   "id": "38372f4b",
   "metadata": {},
   "source": [
    "<h1>Table of Contents<span class=\"tocSkip\"></span></h1>\n",
    "<div class=\"toc\"><ul class=\"toc-item\"><li><span><a href=\"#uberduck_ml_dev.exec.split_train_val\" data-toc-modified-id=\"uberduck_ml_dev.exec.split_train_val-1\"><span class=\"toc-item-num\">1&nbsp;&nbsp;</span>uberduck_ml_dev.exec.split_train_val</a></span></li></ul></div>"
   ]
  },
  {
   "cell_type": "markdown",
   "id": "dd86546a",
   "metadata": {},
   "source": [
    "# uberduck_ml_dev.exec.split_train_val"
   ]
  },
  {
   "cell_type": "code",
   "execution_count": null,
   "id": "b568ce06",
   "metadata": {},
   "outputs": [],
   "source": [
    "# default_exp exec.split_train_val"
   ]
  },
  {
   "cell_type": "code",
   "execution_count": null,
   "id": "8d9e1c61",
   "metadata": {},
   "outputs": [],
   "source": [
    "# export\n",
    "import os\n",
    "from pathlib import Path\n",
    "\n",
    "import numpy as np\n",
    "from sklearn.model_selection import train_test_split\n",
    "\n",
    "\n",
    "def write_filenames(filenames, output_dir, output_filename):\n",
    "    \"\"\"\n",
    "    Writes a list of filenames of as each line of a .txt file specified by output_filename.\n",
    "    \"\"\"\n",
    "    with open(os.path.join(output_dir, output_filename), \"w\") as f:\n",
    "        for item in filenames:\n",
    "            f.write(f\"{item}\\n\")\n",
    "\n",
    "\n",
    "def run(\n",
    "    path,\n",
    "    val_percent=0.2,\n",
    "    val_num=None,\n",
    "    train_file=\"train.txt\",\n",
    "    val_file=\"val.txt\",\n",
    "):\n",
    "    \"\"\"Split file in t\n",
    "    Default behavior only creates a training and validation set (not test set).\n",
    "    \"\"\"\n",
    "    with open(path) as f:\n",
    "        lines = [l.strip(\"\\n\") for l in f.readlines()]\n",
    "\n",
    "    train, val = train_test_split(lines, test_size=val_num if val_num else val_percent)\n",
    "    write_filenames(train, Path(os.path.dirname(path)), train_file)\n",
    "    write_filenames(val, Path(os.path.dirname(path)), val_file)"
   ]
  },
  {
   "cell_type": "code",
   "execution_count": null,
   "id": "529e9026",
   "metadata": {},
   "outputs": [
    {
     "data": {
      "text/plain": [
       "'foo/bar'"
      ]
     },
     "execution_count": null,
     "metadata": {},
     "output_type": "execute_result"
    }
   ],
   "source": [
    "from pathlib import Path\n",
    "\n",
    "p = Path(\"foo/bar/baz\")\n",
    "import os\n",
    "\n",
    "os.path.dirname(p)"
   ]
  },
  {
   "cell_type": "code",
   "execution_count": null,
   "id": "2049854a",
   "metadata": {},
   "outputs": [],
   "source": [
    "# export\n",
    "import argparse\n",
    "import sys\n",
    "\n",
    "\n",
    "def parse_args(args):\n",
    "    parser = argparse.ArgumentParser()\n",
    "    parser.add_argument(\n",
    "        \"-i\", \"--in\", dest=\"input_path\", help=\"Path to input file list\", required=True\n",
    "    )\n",
    "    parser.add_argument(\"-n\", \"--num_val\", dest=\"num_val\", type=float, default=0.1)\n",
    "    args = parser.parse_args(args)\n",
    "    return args\n",
    "\n",
    "\n",
    "try:\n",
    "    from nbdev.imports import IN_NOTEBOOK\n",
    "except:\n",
    "    IN_NOTEBOOK = False\n",
    "\n",
    "if __name__ == \"__main__\" and not IN_NOTEBOOK:\n",
    "    args = parse_args(sys.argv[1:])\n",
    "    if args.num_val > 1:\n",
    "        run(args.input_path, val_num=int(args.num_val))\n",
    "    else:\n",
    "        run(args.input_path, val_percent=args.num_val)"
   ]
  },
  {
   "cell_type": "code",
   "execution_count": null,
   "id": "09967d6e",
   "metadata": {},
   "outputs": [],
   "source": []
  }
 ],
 "metadata": {
  "kernelspec": {
   "display_name": "Python 3",
   "language": "python",
   "name": "python3"
  }
 },
 "nbformat": 4,
 "nbformat_minor": 5
}
