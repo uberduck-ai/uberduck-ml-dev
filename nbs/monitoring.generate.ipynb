{
 "cells": [
  {
   "cell_type": "code",
   "execution_count": null,
   "id": "a257d757",
   "metadata": {},
   "outputs": [],
   "source": [
    "# default_exp monitoring.generate"
   ]
  },
  {
   "cell_type": "code",
   "execution_count": null,
   "id": "6c20036a",
   "metadata": {},
   "outputs": [],
   "source": [
    "# export\n",
    "from uberduck_ml_dev.data_loader import prepare_input_sequence\n",
    "\n",
    "MODEL_TYPES = [\"OD\", \"OD\", \"OD\", \"OD\", \"OD\", \"D\"]\n",
    "\n",
    "\n",
    "def _get_inference(model, vocoder, texts, speaker_ids, symbol_set, arpabet):\n",
    "\n",
    "    text_padded, input_lengths = prepare_input_sequence(\n",
    "        texts, cpu_run=False, arpabet=arpabet, symbol_set=symbol_set\n",
    "    )\n",
    "    input_ = text_padded, input_lengths, speaker_ids\n",
    "    output = model.inference(input_)\n",
    "    audio = vocoder.infer(output[1][:1])\n",
    "    return audio"
   ]
  },
  {
   "cell_type": "code",
   "execution_count": null,
   "id": "ae7f4a01",
   "metadata": {},
   "outputs": [],
   "source": [
    "# skip\n",
    "def names():\n",
    "\n",
    "    names = [\n",
    "        \"Liam\",\n",
    "        \"Olivia\",\n",
    "        \"Noah\",\n",
    "        \"Emma\",\n",
    "        \"Oliver\",\n",
    "        \"Ava\",\n",
    "        \"Elijah\",\n",
    "        \"Charlotte\",\n",
    "        \"William\",\n",
    "        \"Sophia\",\n",
    "    ]\n",
    "    return names\n",
    "\n",
    "\n",
    "def months():\n",
    "\n",
    "    months = [\n",
    "        \"January\",\n",
    "        \"February\",\n",
    "        \"March\",\n",
    "        \"April\",\n",
    "        \"May\",\n",
    "        \"June\",\n",
    "        \"July\",\n",
    "        \"August\",\n",
    "        \"September\",\n",
    "        \"October\",\n",
    "        \"November\",\n",
    "        \"December\",\n",
    "    ]\n",
    "\n",
    "    return months\n",
    "\n",
    "\n",
    "def sample_inference(name_ind, month_ind, number):\n",
    "\n",
    "    number = str(number)\n",
    "    name = names()[name_ind]\n",
    "    month = months()[month_ind]\n",
    "    inf1 = name + \" snacked on \" + number + \" geese in \" + month\n",
    "    inf2 = \"I hear that \" + month + \" is when \" + name + \" turns \" + number\n",
    "    infs = [inf1, inf2]\n",
    "    return infs"
   ]
  }
 ],
 "metadata": {
  "kernelspec": {
   "display_name": "Python [conda env:root] *",
   "language": "python",
   "name": "conda-root-py"
  }
 },
 "nbformat": 4,
 "nbformat_minor": 5
}
