{
 "cells": [
  {
   "cell_type": "code",
   "execution_count": null,
   "id": "6d4adc17",
   "metadata": {},
   "outputs": [],
   "source": [
    "# default_exp exec.parse_data"
   ]
  },
  {
   "cell_type": "markdown",
   "id": "8a33930d",
   "metadata": {},
   "source": [
    "# uberduck_ml_dev.exec.parse_data"
   ]
  },
  {
   "cell_type": "markdown",
   "id": "21d6e44c",
   "metadata": {},
   "source": [
    "Log a speech dataset to the filelist database\n",
    "\n",
    "Usage:\n",
    "\n",
    "```\n",
    "python -m uberduck_ml_dev.exec.parse_data \\\n",
    "    --input ~/multispeaker-root \\\n",
    "    --format standard-multispeaker \\\n",
    "    --ouput list.txt\n",
    "```\n",
    "\n",
    "### Supported formats:\n",
    "\n",
    "### `standard-multispeaker`\n",
    "\n",
    "```\n",
    "root\n",
    "  speaker1\n",
    "    list.txt\n",
    "    wavs\n",
    "  speaker2\n",
    "    list.txt\n",
    "    wavs\n",
    "```\n",
    "\n",
    "### `standard-singlespeaker`\n",
    "\n",
    "```\n",
    "root\n",
    "    list.txt\n",
    "    wavs\n",
    "```\n",
    "\n",
    "### Unsupported formats (yet):\n",
    "\n",
    "\n",
    "### `vctk`\n",
    "\n",
    "Format of the VCTK dataset as downloaded from the [University of Edinburgh](https://datashare.ed.ac.uk/handle/10283/3443).\n",
    "\n",
    "```\n",
    "root\n",
    "  wav48_silence_trimmed\n",
    "    p228\n",
    "      p228_166_mic1.flac\n",
    "      ...\n",
    "  txt\n",
    "    p228\n",
    "      p228_166.txt\n",
    "      ...\n",
    "```"
   ]
  },
  {
   "cell_type": "code",
   "execution_count": null,
   "id": "45c9d7c8",
   "metadata": {},
   "outputs": [],
   "source": [
    "# export\n",
    "\n",
    "import argparse\n",
    "import os\n",
    "from pathlib import Path\n",
    "\n",
    "import sqlite3\n",
    "from tqdm import tqdm\n",
    "\n",
    "from uberduck_ml_dev.data.cache import ensure_speaker_table, CACHE_LOCATION\n",
    "from uberduck_ml_dev.data.parse import (\n",
    "    _cache_filelists,\n",
    "    _write_db_to_csv,\n",
    "    STANDARD_MULTISPEAKER,\n",
    "    STANDARD_SINGLESPEAKER,\n",
    ")\n",
    "\n",
    "FORMATS = [\n",
    "    STANDARD_MULTISPEAKER,\n",
    "    STANDARD_SINGLESPEAKER,\n",
    "]"
   ]
  },
  {
   "cell_type": "code",
   "execution_count": null,
   "id": "e96f4a2f",
   "metadata": {},
   "outputs": [
    {
     "data": {
      "text/plain": [
       "True"
      ]
     },
     "execution_count": null,
     "metadata": {},
     "output_type": "execute_result"
    }
   ],
   "source": [
    "CACHE_LOCATION.parent.exists()"
   ]
  },
  {
   "cell_type": "code",
   "execution_count": null,
   "id": "f2667b98",
   "metadata": {},
   "outputs": [],
   "source": [
    "# export\n",
    "from typing import List\n",
    "import sys\n",
    "\n",
    "\n",
    "def _parse_args(args: List[str]):\n",
    "    parser = argparse.ArgumentParser()\n",
    "    parser.add_argument(\n",
    "        \"-i\", \"--input\", help=\"Path to input dataset file or directory\", required=True\n",
    "    )\n",
    "    parser.add_argument(\n",
    "        \"-f\", \"--format\", help=\"Input dataset format\", default=STANDARD_MULTISPEAKER\n",
    "    )\n",
    "    parser.add_argument(\n",
    "        \"-n\", \"--name\", help=\"Dataset name\", default=STANDARD_MULTISPEAKER\n",
    "    )\n",
    "    parser.add_argument(\n",
    "        \"-d\", \"--database\", help=\"Output database\", default=CACHE_LOCATION\n",
    "    )\n",
    "    parser.add_argument(\"--csv_path\", help=\"Path to save csv\", default=None)\n",
    "    return parser.parse_args(args)\n",
    "\n",
    "\n",
    "try:\n",
    "    from nbdev.imports import IN_NOTEBOOK\n",
    "except:\n",
    "    IN_NOTEBOOK = False\n",
    "\n",
    "if __name__ == \"__main__\" and not IN_NOTEBOOK:\n",
    "\n",
    "    args = _parse_args(sys.argv[1:])\n",
    "    ensure_speaker_table(args.database)\n",
    "    conn = sqlite3.connect(args.database)\n",
    "    _cache_filelists(\n",
    "        folder=args.input, fmt=args.format, conn=conn, dataset_name=args.name\n",
    "    )\n",
    "    if args.csv_path is not None:\n",
    "        _write_db_to_csv(conn, args.csv_path)"
   ]
  },
  {
   "cell_type": "code",
   "execution_count": null,
   "id": "fabd694f",
   "metadata": {},
   "outputs": [],
   "source": [
    "# skip\n",
    "python -m uberduck_ml_dev.exec.parse_data -i /mnt/disks/uberduck-experiments-v0/data/eminem/ \\\n",
    "\t-f standard-singlespeaker \\\n",
    "\t-d /home/s_uberduck_ai/.cache/uberduck/uberduck-ml-exp.db \\\n",
    "\t--csv_path $UBMLEXP/filelist_list \\\n",
    "\t-n eminem"
   ]
  },
  {
   "cell_type": "code",
   "execution_count": null,
   "id": "c9499f80",
   "metadata": {},
   "outputs": [
    {
     "name": "stderr",
     "output_type": "stream",
     "text": [
      "  5%|▍         | 4/85 [00:00<00:02, 35.22it/s]"
     ]
    },
    {
     "name": "stdout",
     "output_type": "stream",
     "text": [
      "/private/var/folders/9n/w8qrq4mx4cl_j036z8wg_9nh0000gp/T/tmp8xrrhl9s\n"
     ]
    },
    {
     "name": "stderr",
     "output_type": "stream",
     "text": [
      "100%|██████████| 85/85 [00:00<00:00, 94.09it/s] \n",
      "100%|██████████| 85/85 [00:00<00:00, 96.20it/s] \n"
     ]
    }
   ],
   "source": [
    "# skip\n",
    "from tempfile import NamedTemporaryFile, TemporaryFile\n",
    "\n",
    "with NamedTemporaryFile(\"w\") as f:\n",
    "    _generate_filelist(\n",
    "        str(Path(\"/Users/zwf/data/voice/dvc-managed/uberduck-multispeaker/\").resolve()),\n",
    "        \"standard-multispeaker\",\n",
    "        f.name,\n",
    "    )\n",
    "\n",
    "with TemporaryFile(\"w\") as f:\n",
    "    _convert_to_multispeaker(\n",
    "        f,\n",
    "        str(Path(\"/Users/zwf/data/voice/dvc-managed/uberduck-multispeaker/\").resolve()),\n",
    "        \"standard-multispeaker\",\n",
    "    )"
   ]
  }
 ],
 "metadata": {
  "kernelspec": {
   "display_name": "Python 3",
   "language": "python",
   "name": "python3"
  }
 },
 "nbformat": 4,
 "nbformat_minor": 5
}
