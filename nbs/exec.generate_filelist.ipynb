{
 "cells": [
  {
   "cell_type": "code",
   "execution_count": null,
   "id": "16c70302",
   "metadata": {},
   "outputs": [],
   "source": [
    "# default_exp exec.generate_filelist"
   ]
  },
  {
   "cell_type": "markdown",
   "id": "1ed1ab55",
   "metadata": {},
   "source": [
    "# uberduck_ml_dev.exec.select_speakers"
   ]
  },
  {
   "cell_type": "code",
   "execution_count": null,
   "id": "2093cc19",
   "metadata": {},
   "outputs": [],
   "source": [
    "# export\n",
    "import argparse\n",
    "from collections import namedtuple\n",
    "from dataclasses import dataclass\n",
    "import json\n",
    "import os\n",
    "from pathlib import Path\n",
    "from shutil import copyfile, copytree\n",
    "import sys\n",
    "from typing import List, Optional, Set\n",
    "\n",
    "import sqlite3\n",
    "from tqdm import tqdm\n",
    "\n",
    "from uberduck_ml_dev.data.cache import (\n",
    "    CACHE_LOCATION,\n",
    "    ensure_speaker_table,\n",
    ")  # ensure_filelist_in_cache,\n",
    "from uberduck_ml_dev.data.parse import _generate_filelist\n",
    "from uberduck_ml_dev.utils.audio import convert_to_wav\n",
    "\n",
    "# from uberduck_ml_dev.utils.utils import parse_vctk\n",
    "\n",
    "\n",
    "def parse_args(args):\n",
    "    parser = argparse.ArgumentParser()\n",
    "    parser.add_argument(\"--config\", help=\"path to JSON config\", required=True)\n",
    "    parser.add_argument(\n",
    "        \"-d\", \"--database\", help=\"Input database\", default=CACHE_LOCATION\n",
    "    )\n",
    "    parser.add_argument(\"-o\", \"--out\", help=\"path to save output\", required=True)\n",
    "    return parser.parse_args(args)\n",
    "\n",
    "\n",
    "try:\n",
    "    from nbdev.imports import IN_NOTEBOOK\n",
    "except:\n",
    "    IN_NOTEBOOK = False\n",
    "\n",
    "if __name__ == \"__main__\" and not IN_NOTEBOOK:\n",
    "    args = parse_args(sys.argv[1:])\n",
    "    if args.config:\n",
    "        conn = sqlite3.connect(args.database)\n",
    "        _generate_filelist(args.config, conn, args.out)\n",
    "    else:\n",
    "        raise Exception(\"You must pass a config file!\")"
   ]
  },
  {
   "cell_type": "code",
   "execution_count": null,
   "id": "fc8dee43",
   "metadata": {},
   "outputs": [],
   "source": [
    "# skip\n",
    "import json\n",
    "import sqlite3\n",
    "from pathlib import Path\n",
    "\n",
    "config_path = \"/mnt/disks/uberduck-experiments-v0/uberduck-ml-exp/configs/filelists/eminem-zwf-vertex_v2.json\"\n",
    "conn = sqlite3.connect(\"/home/s_uberduck_ai/.cache/uberduck/uberduck-ml-exp.db\")\n",
    "out = \"/mnt/disks/uberduck-experiments-v0/uberduck-ml-exp/experiments/eminem_zwf_vertex-v2/filelist.txt\"\n",
    "_generate_filelist(config_path, conn, out)"
   ]
  },
  {
   "cell_type": "code",
   "execution_count": null,
   "id": "f4e7a1fd",
   "metadata": {},
   "outputs": [],
   "source": [
    "args = parse_args([\"--config\", \"foo.json\", \"-o\", \"bar.out\"])\n",
    "assert args.config == \"foo.json\"\n",
    "assert args.out == \"bar.out\"\n",
    "assert args.database == CACHE_LOCATION"
   ]
  },
  {
   "cell_type": "code",
   "execution_count": null,
   "id": "463f7ca3",
   "metadata": {},
   "outputs": [],
   "source": [
    "# @dataclass\n",
    "# class Filelist:\n",
    "#     path: str\n",
    "#     sql: Optional[str] = None\n",
    "#     speaker_ids: Optional[List[int]] = None\n",
    "#     speakers: Optional[List[str]] = None\n",
    "#     speaker_idx_in_path: int = None"
   ]
  }
 ],
 "metadata": {
  "kernelspec": {
   "display_name": "Python 3 (ipykernel)",
   "language": "python",
   "name": "python3"
  }
 },
 "nbformat": 4,
 "nbformat_minor": 5
}
