{
 "cells": [
  {
   "cell_type": "markdown",
   "id": "3f475d2c",
   "metadata": {},
   "source": [
    "<h1>Table of Contents<span class=\"tocSkip\"></span></h1>\n",
    "<div class=\"toc\"><ul class=\"toc-item\"></ul></div>"
   ]
  },
  {
   "cell_type": "markdown",
   "id": "d942c6a2",
   "metadata": {},
   "source": [
    "<h1>Table of Contents<span class=\"tocSkip\"></span></h1>\n",
    "<div class=\"toc\"><ul class=\"toc-item\"></ul></div>"
   ]
  },
  {
   "cell_type": "code",
   "execution_count": null,
   "id": "c22cddb1",
   "metadata": {},
   "outputs": [],
   "source": [
    "# default_exp text.symbols"
   ]
  },
  {
   "cell_type": "code",
   "execution_count": null,
   "id": "16036bfe",
   "metadata": {},
   "outputs": [],
   "source": [
    "# export\n",
    "\n",
    "\"\"\" from https://github.com/keithito/tacotron \"\"\"\n",
    "\n",
    "\"\"\"\n",
    "Defines the set of symbols used in text input to the model.\n",
    "The default is a set of ASCII characters that works well for English or text that has been run through Unidecode. For other data, you can modify _characters. See TRAINING_DATA.md for details. \"\"\"\n",
    "\n",
    "from uberduck_ml_dev.text import cmudict\n",
    "\n",
    "_pad = \"_\"\n",
    "_punctuation_nvidia_taco2 = \"!'(),.:;? \"\n",
    "_punctuation = \"!'\\\",.:;? \"\n",
    "_math = \"#%&*+-/[]()\"\n",
    "_special = \"@©°½—₩€$\"\n",
    "_special_nvidia_taco2 = \"-\"\n",
    "_accented = \"áçéêëñöøćž\"\n",
    "_numbers = \"0123456789\"\n",
    "\n",
    "_letters = \"ABCDEFGHIJKLMNOPQRSTUVWXYZabcdefghijklmnopqrstuvwxyz\"\n",
    "_letters_ipa = \"ɑɐɒæɓʙβɔɕçɗɖðʤəɘɚɛɜɝɞɟʄɡɠɢʛɦɧħɥʜɨɪʝɭɬɫɮʟɱɯɰŋɳɲɴøɵɸθœɶʘɹɺɾɻʀʁɽʂʃʈʧʉʊʋⱱʌɣɤʍχʎʏʑʐʒʔʡʕʢǀǁǂǃˈˌːˑʼʴʰʱʲʷˠˤ˞↓↑→↗↘'̩'ᵻ\"\n",
    "\n",
    "\n",
    "# Prepend \"@\" to ARPAbet symbols to ensure uniqueness (some are the same as\n",
    "# uppercase letters):\n",
    "_arpabet = [\"@\" + s for s in cmudict.valid_symbols]\n",
    "\n",
    "\n",
    "# Language-specific symbol sets:\n",
    "\n",
    "_portuguese = \"áàãâéèêíìîóòõôúùûçÁÀÃÂÉÈÊÍÌÎÓÒÕÔÚÙÛÇabcdefghijklmnopqrstuvwxyzABCDEFGHIJKLMNOPQRSTUVWXYZ\"\n",
    "\n",
    "symbols_portuguese = (\n",
    "    [_pad]\n",
    "    + list(_special_nvidia_taco2)\n",
    "    + list(_punctuation_nvidia_taco2)\n",
    "    + list(_portuguese)\n",
    "    + _arpabet\n",
    ")\n",
    "\n",
    "PORTUGUESE_SYMBOLS = \"portuguese\"\n",
    "\n",
    "##\n",
    "\n",
    "_polish = \"AĄBCĆDEĘFGHIJKLŁMNŃOÓPRSŚTUWYZŹŻaąbcćdeęfghijklłmnńoóprsśtuwyzźż\"\n",
    "_punctuation_polish = \"!,.? \"\n",
    "\n",
    "symbols_polish = (\n",
    "    [_pad]\n",
    "    + list(_special_nvidia_taco2)\n",
    "    + list(_punctuation_polish)\n",
    "    + list(_polish)\n",
    "    + _arpabet\n",
    ")\n",
    "\n",
    "POLISH_SYMBOLS = \"polish\"\n",
    "\n",
    "##\n",
    "\n",
    "_dutch = \"éèêëíìîüÉÈÊËÍÌÎÜabcdefghijklmnopqrstuvwxyzABCDEFGHIJKLMNOPQRSTUVWXYZ\"\n",
    "\n",
    "symbols_dutch = (\n",
    "    [_pad]\n",
    "    + list(_special_nvidia_taco2)\n",
    "    + list(_punctuation_nvidia_taco2)\n",
    "    + list(_dutch)\n",
    "    + _arpabet\n",
    ")\n",
    "\n",
    "DUTCH_SYMBOLS = \"dutch\"\n",
    "\n",
    "##\n",
    "\n",
    "\n",
    "# Export all symbols:\n",
    "symbols = (\n",
    "    list(_pad + _punctuation + _math + _special + _accented + _numbers + _letters)\n",
    "    + _arpabet\n",
    ")\n",
    "\n",
    "symbols_nvidia_taco2 = (\n",
    "    [_pad]\n",
    "    + list(_special_nvidia_taco2)\n",
    "    + list(_punctuation_nvidia_taco2)\n",
    "    + list(_letters)\n",
    "    + _arpabet\n",
    ")\n",
    "\n",
    "symbols_with_ipa = symbols + list(_letters_ipa)\n",
    "grad_tts_symbols = list(_pad + \"-\" + \"!'(),.:;? \" + _letters) + _arpabet\n",
    "\n",
    "DEFAULT_SYMBOLS = \"default\"\n",
    "IPA_SYMBOLS = \"ipa\"\n",
    "NVIDIA_TACO2_SYMBOLS = \"nvidia_taco2\"\n",
    "GRAD_TTS_SYMBOLS = \"gradtts\"\n",
    "\n",
    "SYMBOL_SETS = {\n",
    "    DEFAULT_SYMBOLS: symbols,\n",
    "    IPA_SYMBOLS: symbols_with_ipa,\n",
    "    NVIDIA_TACO2_SYMBOLS: symbols_nvidia_taco2,\n",
    "    GRAD_TTS_SYMBOLS: grad_tts_symbols,\n",
    "    # Language-specific symbol sets:\n",
    "    PORTUGUESE_SYMBOLS: symbols_portuguese,\n",
    "    POLISH_SYMBOLS: symbols_polish,\n",
    "    DUTCH_SYMBOLS: symbols_dutch,\n",
    "}"
   ]
  },
  {
   "cell_type": "code",
   "execution_count": null,
   "id": "884f9803",
   "metadata": {},
   "outputs": [],
   "source": [
    "# export\n",
    "import re\n",
    "\n",
    "symbol_to_id = {\n",
    "    DEFAULT_SYMBOLS: {s: i for i, s in enumerate(SYMBOL_SETS[DEFAULT_SYMBOLS])},\n",
    "    IPA_SYMBOLS: {s: i for i, s in enumerate(SYMBOL_SETS[IPA_SYMBOLS])},\n",
    "    NVIDIA_TACO2_SYMBOLS: {\n",
    "        s: i for i, s in enumerate(SYMBOL_SETS[NVIDIA_TACO2_SYMBOLS])\n",
    "    },\n",
    "    GRAD_TTS_SYMBOLS: {s: i for i, s in enumerate(SYMBOL_SETS[GRAD_TTS_SYMBOLS])},\n",
    "    # Language-specific symbol sets:\n",
    "    PORTUGUESE_SYMBOLS: {s: i for i, s in enumerate(SYMBOL_SETS[PORTUGUESE_SYMBOLS])},\n",
    "    POLISH_SYMBOLS: {s: i for i, s in enumerate(SYMBOL_SETS[POLISH_SYMBOLS])},\n",
    "    DUTCH_SYMBOLS: {s: i for i, s in enumerate(SYMBOL_SETS[DUTCH_SYMBOLS])},\n",
    "}\n",
    "id_to_symbol = {\n",
    "    DEFAULT_SYMBOLS: {i: s for i, s in enumerate(SYMBOL_SETS[DEFAULT_SYMBOLS])},\n",
    "    IPA_SYMBOLS: {i: s for i, s in enumerate(SYMBOL_SETS[IPA_SYMBOLS])},\n",
    "    NVIDIA_TACO2_SYMBOLS: {\n",
    "        i: s for i, s in enumerate(SYMBOL_SETS[NVIDIA_TACO2_SYMBOLS])\n",
    "    },\n",
    "    GRAD_TTS_SYMBOLS: {i: s for i, s in enumerate(SYMBOL_SETS[GRAD_TTS_SYMBOLS])},\n",
    "    # Language-specific symbol sets:\n",
    "    PORTUGUESE_SYMBOLS: {i: s for i, s in enumerate(SYMBOL_SETS[PORTUGUESE_SYMBOLS])},\n",
    "    POLISH_SYMBOLS: {i: s for i, s in enumerate(SYMBOL_SETS[POLISH_SYMBOLS])},\n",
    "    DUTCH_SYMBOLS: {i: s for i, s in enumerate(SYMBOL_SETS[DUTCH_SYMBOLS])},\n",
    "}\n",
    "\n",
    "curly_re = re.compile(r\"(.*?)\\{(.+?)\\}(.*)\")\n",
    "words_re = re.compile(\n",
    "    r\"([a-zA-ZÀ-ž]+['][a-zA-ZÀ-ž]{1,2}|[a-zA-ZÀ-ž]+)|([{][^}]+[}]|[^a-zA-ZÀ-ž{}]+)\"\n",
    ")\n",
    "\n",
    "\n",
    "def symbols_to_sequence(symbols, symbol_set=DEFAULT_SYMBOLS, ignore_symbols=[\"_\", \"~\"]):\n",
    "    return [\n",
    "        symbol_to_id[symbol_set][s]\n",
    "        for s in symbols\n",
    "        if should_keep_symbol(s, symbol_set, ignore_symbols)\n",
    "    ]\n",
    "\n",
    "\n",
    "def arpabet_to_sequence(text, symbol_set=DEFAULT_SYMBOLS):\n",
    "    return symbols_to_sequence([\"@\" + s for s in text.split()], symbol_set=symbol_set)\n",
    "\n",
    "\n",
    "def should_keep_symbol(s, symbol_set=DEFAULT_SYMBOLS, ignore_symbols=[\"_\", \"~\"]):\n",
    "    return s in symbol_to_id[symbol_set] and s not in ignore_symbols"
   ]
  },
  {
   "cell_type": "code",
   "execution_count": null,
   "id": "9b4b3942",
   "metadata": {},
   "outputs": [
    {
     "name": "stdout",
     "output_type": "stream",
     "text": [
      "[('The', ''), ('', '   '), ('quick', '')]\n",
      "[(\"I'm\", ''), ('', ' '), ('blue', ''), ('', ',')]\n",
      "[(\"L'mo\", ''), (\"nj'el\", ''), ('lo', '')]\n",
      "[('', '{ S IY }'), ('', ' '), ('', '{ EH M }')]\n"
     ]
    }
   ],
   "source": [
    "print(words_re.findall(\"The   quick\"))\n",
    "print(words_re.findall(\"I'm blue,\"))\n",
    "print(words_re.findall(\"L'monj'ello\"))\n",
    "print(words_re.findall(\"{ S IY } { EH M }\"))"
   ]
  },
  {
   "cell_type": "code",
   "execution_count": null,
   "id": "0f1eca50",
   "metadata": {},
   "outputs": [],
   "source": [
    "assert should_keep_symbol(\" \")\n",
    "assert not should_keep_symbol(\"\\n\")\n",
    "assert should_keep_symbol(\".\")"
   ]
  },
  {
   "cell_type": "code",
   "execution_count": null,
   "id": "a094cd29",
   "metadata": {},
   "outputs": [
    {
     "data": {
      "text/plain": [
       "[111, 156, 127, 167, 144]"
      ]
     },
     "execution_count": null,
     "metadata": {},
     "output_type": "execute_result"
    }
   ],
   "source": [
    "# NOTE: arpabet_to_sequence does not properly handle whitespace, it should take single words only.\n",
    "assert (\n",
    "    len(arpabet_to_sequence(\"{ S IY } { EH M } { Y UW } { D IH K SH AH N EH R IY }\"))\n",
    "    == 15\n",
    ")\n",
    "assert arpabet_to_sequence(\"{ S IY }\") == [168, 148]\n",
    "# But symbols_to_sequence hanldes whitespace\n",
    "assert len(symbols_to_sequence(\"C M U Dictionary\")) == 16\n",
    "arpabet_to_sequence(\"{ H AH1 N D R IH D}\")"
   ]
  },
  {
   "cell_type": "code",
   "execution_count": null,
   "id": "f5d269cd",
   "metadata": {},
   "outputs": [
    {
     "data": {
      "text/plain": [
       "185"
      ]
     },
     "execution_count": null,
     "metadata": {},
     "output_type": "execute_result"
    }
   ],
   "source": [
    "len(SYMBOL_SETS[\"default\"])"
   ]
  },
  {
   "cell_type": "code",
   "execution_count": null,
   "id": "12af9630",
   "metadata": {},
   "outputs": [],
   "source": []
  }
 ],
 "metadata": {
  "kernelspec": {
   "display_name": "Python 3 (ipykernel)",
   "language": "python",
   "name": "python3"
  }
 },
 "nbformat": 4,
 "nbformat_minor": 5
}
