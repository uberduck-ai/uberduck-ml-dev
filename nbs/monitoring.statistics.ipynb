{
 "cells": [
  {
   "cell_type": "code",
   "execution_count": null,
   "id": "ab69bc82",
   "metadata": {},
   "outputs": [],
   "source": [
    "# default_exp monitoring.statistics"
   ]
  },
  {
   "cell_type": "code",
   "execution_count": null,
   "id": "986cba7a",
   "metadata": {},
   "outputs": [],
   "source": [
    "# export\n",
    "import torch\n",
    "from uberduck_ml_dev.utils.utils import get_mask_from_lengths\n",
    "\n",
    "\n",
    "def get_alignment_metrics(\n",
    "    alignments, average_across_batch=True, input_lengths=None, output_lengths=None\n",
    "):\n",
    "    alignments = alignments.transpose(1, 2)  # [B, dec, enc] -> [B, enc, dec]\n",
    "    if input_lengths == None:\n",
    "        input_lengths = torch.ones(alignments.size(0), device=alignments.device) * (\n",
    "            alignments.shape[1] - 1\n",
    "        )  # [B] # 147\n",
    "    if output_lengths == None:\n",
    "        output_lengths = torch.ones(alignments.size(0), device=alignments.device) * (\n",
    "            alignments.shape[2] - 1\n",
    "        )  # [B] # 767\n",
    "\n",
    "    batch_size = alignments.size(0)\n",
    "    optimums = torch.sqrt(\n",
    "        input_lengths.double().pow(2) + output_lengths.double().pow(2)\n",
    "    ).view(batch_size)\n",
    "\n",
    "    # [B, enc, dec] -> [B, dec], [B, dec]\n",
    "    values, cur_idxs = torch.max(alignments, 1)\n",
    "\n",
    "    cur_idxs = cur_idxs.float()\n",
    "    prev_indx = torch.cat((cur_idxs[:, 0][:, None], cur_idxs[:, :-1]), dim=1)\n",
    "    dist = ((prev_indx - cur_idxs).pow(2) + 1).pow(0.5)  # [B, dec]\n",
    "    dist.masked_fill_(\n",
    "        ~get_mask_from_lengths(output_lengths, max_len=dist.size(1)), 0.0\n",
    "    )  # set dist of padded to zero\n",
    "    dist = dist.sum(dim=(1))  # get total dist for each B\n",
    "    diagonalness = (dist + 1.4142135) / optimums  # dist / optimal dist\n",
    "\n",
    "    maxes = alignments.max(axis=1)[0].mean(axis=1)\n",
    "    if average_across_batch:\n",
    "        diagonalness = diagonalness.mean()\n",
    "        maxes = maxes.mean()\n",
    "\n",
    "    output = {}\n",
    "    output[\"diagonalness\"] = diagonalness\n",
    "    output[\"max\"] = maxes\n",
    "\n",
    "    return output"
   ]
  },
  {
   "cell_type": "code",
   "execution_count": null,
   "id": "e7256dd5",
   "metadata": {},
   "outputs": [],
   "source": [
    "# skip\n",
    "hifigan = HiFiGanGenerator(\n",
    "    config=\"test/fixtures/models/config_v1.json\",\n",
    "    checkpoint=\"test/fixtures/models/gen_02640000_studio\",\n",
    "    #     config=\"../models/hifigan-config.json\",\n",
    "    #     checkpoint=\"../models/gen_02640000_studio\",\n",
    "    cudnn_enabled=False,\n",
    ")\n",
    "audio = hifigan.infer(mel)"
   ]
  }
 ],
 "metadata": {
  "kernelspec": {
   "display_name": "Python [conda env:root] *",
   "language": "python",
   "name": "conda-root-py"
  }
 },
 "nbformat": 4,
 "nbformat_minor": 5
}
