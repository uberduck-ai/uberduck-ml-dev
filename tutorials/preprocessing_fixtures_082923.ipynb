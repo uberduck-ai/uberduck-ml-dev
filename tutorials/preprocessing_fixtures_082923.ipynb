{
 "cells": [
  {
   "cell_type": "code",
   "execution_count": 23,
   "id": "25641f60",
   "metadata": {},
   "outputs": [
    {
     "name": "stdout",
     "output_type": "stream",
     "text": [
      "The autoreload extension is already loaded. To reload it, use:\n",
      "  %reload_ext autoreload\n"
     ]
    }
   ],
   "source": [
    "%load_ext autoreload\n",
    "%autoreload 2\n",
    "\n",
    "import os\n",
    "from uberduck_ml_dev.data.get import get_mels, get_pitches\n",
    "from uberduck_ml_dev.data.data import RADTTS_DEFAULTS as data_config"
   ]
  },
  {
   "cell_type": "code",
   "execution_count": 18,
   "id": "37e90cae",
   "metadata": {},
   "outputs": [],
   "source": [
    "target_folder = '/usr/src/app/uberduck_ml_dev/analytics/tests/fixtures/ljtest/processed/'\n",
    "source_folder = '/usr/src/app/uberduck_ml_dev/analytics/tests/fixtures/ljtest/wavs/'\n",
    "paths = os.listdir(source_folder)\n",
    "\n",
    "local_path_list = [os.path.join(source_folder, path) for path in paths]\n",
    "folder_path_list = [os.path.join(target_folder, path.split('.wav')[0]) for path in paths]\n",
    "resampled_normalized_path_list = [os.path.join(folder_path, 'resampled_normalized.pt') for folder_path in folder_path_list]\n",
    "spectrogram_path_list = [os.path.join(target_folder, folder_path, 'spectrogram.pt') for folder_path in folder_path_list]\n",
    "\n",
    "for folder_path in folder_path_list:\n",
    "    os.makedirs(folder_path, exist_ok = True)\n",
    "\n",
    "def load_resampled_floatnorm_audio(source_path):\n",
    "    rate, data = read(source_path)\n",
    "    if len(data.shape) > 1:\n",
    "        rez_data = data[:,0] / np.abs(data[:,0]).max()\n",
    "    else:\n",
    "        rez_data = data / np.abs(data).max()\n",
    "    output = librosa.resample(rez_data, orig_sr = rate, target_sr = 22050)\n",
    "    return output\n",
    "\n",
    "integer_normalize_audio = lambda x : np.asarray((x / np.abs(x).max()) * (MAX_WAV_VALUE - 1), dtype = np.int16)\n",
    "def save_audio(data, filename, rate = 22050):\n",
    "    write(filename, rate, data) # must be in this order\n",
    "    \n",
    "def resample_normalize(source_path, target_path):\n",
    "    \n",
    "    resample_floatnorm_mono_audio = load_resampled_floatnorm_audio(source_path)\n",
    "    resample_intnorm_audio = integer_normalize_audio(resample_floatnorm_mono_audio)\n",
    "    save_audio(resample_intnorm_audio, target_path)"
   ]
  },
  {
   "cell_type": "code",
   "execution_count": 20,
   "id": "adaa4f87",
   "metadata": {},
   "outputs": [],
   "source": [
    "from scipy.io.wavfile import read\n",
    "\n",
    "from uberduck_ml_dev.data.get import get\n",
    "import librosa\n",
    "import numpy as np\n",
    "from scipy.io.wavfile import write\n",
    "\n",
    "MAX_WAV_VALUE = 32768\n",
    "sr = 22050\n",
    "get(resample_normalize,\n",
    "    local_path_list,\n",
    "    resampled_normalized_path_list,\n",
    "    True)"
   ]
  },
  {
   "cell_type": "code",
   "execution_count": 21,
   "id": "57326aec",
   "metadata": {},
   "outputs": [],
   "source": [
    "get_mels(resampled_normalized_path_list, data_config, spectrogram_path_list)"
   ]
  },
  {
   "cell_type": "code",
   "execution_count": 31,
   "id": "a65b6b73",
   "metadata": {},
   "outputs": [],
   "source": [
    "get_pitches(resampled_normalized_path_list, data_config, folder_path_list, method = 'radtts')"
   ]
  },
  {
   "cell_type": "code",
   "execution_count": null,
   "id": "d0fa0adb",
   "metadata": {},
   "outputs": [],
   "source": []
  }
 ],
 "metadata": {
  "kernelspec": {
   "display_name": "Python 3",
   "language": "python",
   "name": "python3"
  },
  "language_info": {
   "codemirror_mode": {
    "name": "ipython",
    "version": 3
   },
   "file_extension": ".py",
   "mimetype": "text/x-python",
   "name": "python",
   "nbconvert_exporter": "python",
   "pygments_lexer": "ipython3",
   "version": "3.8.10"
  }
 },
 "nbformat": 4,
 "nbformat_minor": 5
}
