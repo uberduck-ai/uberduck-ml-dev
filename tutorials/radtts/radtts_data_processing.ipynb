{
 "cells": [
  {
   "cell_type": "code",
   "execution_count": 1,
   "id": "0e3c74a5",
   "metadata": {},
   "outputs": [
    {
     "ename": "ImportError",
     "evalue": "cannot import name 'get' from 'uberduck_ml_dev.data.get' (/usr/src/app/uberduck_ml_dev/uberduck_ml_dev/data/get.py)",
     "output_type": "error",
     "traceback": [
      "\u001b[0;31m---------------------------------------------------------------------------\u001b[0m",
      "\u001b[0;31mImportError\u001b[0m                               Traceback (most recent call last)",
      "Cell \u001b[0;32mIn[1], line 5\u001b[0m\n\u001b[1;32m      2\u001b[0m \u001b[38;5;28;01mfrom\u001b[39;00m \u001b[38;5;21;01muberduck_ml_dev\u001b[39;00m\u001b[38;5;21;01m.\u001b[39;00m\u001b[38;5;21;01mdata\u001b[39;00m\u001b[38;5;21;01m.\u001b[39;00m\u001b[38;5;21;01mget\u001b[39;00m \u001b[38;5;28;01mimport\u001b[39;00m get_mels, get_pitches\n\u001b[1;32m      3\u001b[0m \u001b[38;5;28;01mfrom\u001b[39;00m \u001b[38;5;21;01muberduck_ml_dev\u001b[39;00m\u001b[38;5;21;01m.\u001b[39;00m\u001b[38;5;21;01mdata\u001b[39;00m\u001b[38;5;21;01m.\u001b[39;00m\u001b[38;5;21;01mdata\u001b[39;00m \u001b[38;5;28;01mimport\u001b[39;00m RADTTS_DEFAULTS \u001b[38;5;28;01mas\u001b[39;00m data_config\n\u001b[0;32m----> 5\u001b[0m \u001b[38;5;28;01mfrom\u001b[39;00m \u001b[38;5;21;01muberduck_ml_dev\u001b[39;00m\u001b[38;5;21;01m.\u001b[39;00m\u001b[38;5;21;01mdata\u001b[39;00m\u001b[38;5;21;01m.\u001b[39;00m\u001b[38;5;21;01mget\u001b[39;00m \u001b[38;5;28;01mimport\u001b[39;00m get\n\u001b[1;32m      6\u001b[0m \u001b[38;5;28;01mimport\u001b[39;00m \u001b[38;5;21;01mlibrosa\u001b[39;00m\n\u001b[1;32m      7\u001b[0m \u001b[38;5;28;01mimport\u001b[39;00m \u001b[38;5;21;01mnumpy\u001b[39;00m \u001b[38;5;28;01mas\u001b[39;00m \u001b[38;5;21;01mnp\u001b[39;00m\n",
      "\u001b[0;31mImportError\u001b[0m: cannot import name 'get' from 'uberduck_ml_dev.data.get' (/usr/src/app/uberduck_ml_dev/uberduck_ml_dev/data/get.py)"
     ]
    }
   ],
   "source": [
    "import os\n",
    "from uberduck_ml_dev.data.get import get_mels, get_pitches\n",
    "from uberduck_ml_dev.data.data import RADTTS_DEFAULTS as data_config\n",
    "\n",
    "from uberduck_ml_dev.data.get import get\n",
    "import librosa\n",
    "import numpy as np\n",
    "from scipy.io.wavfile import write\n",
    "from datetime import datetime"
   ]
  },
  {
   "cell_type": "code",
   "execution_count": 3,
   "id": "2710441c",
   "metadata": {},
   "outputs": [],
   "source": [
    "# data_dir = \"/path/to/data\"\n",
    "data_dir = \"/usr/src/app/uberduck_ml_exp/lj/LJSpeech/\"\n",
    "\n",
    "\n",
    "\n",
    "\n",
    "rel_path_list = os.listdir(os.path.join(data_dir, 'wavs'))\n",
    "local_path_list = [os.path.join(data_dir, 'wavs', rel_path) for rel_path in rel_path_list]\n",
    "resampled_normalized_path_list = [os.path.join(data_dir, \n",
    "                                               local_path.split('.wav')[0],\n",
    "                                               'audio_resampledT_normalized32768T.wav') \n",
    "                                  for local_path in local_path_list]\n",
    "spectrogram_path_list = [os.path.join(data_dir, local_path.split('.wav')[0],\n",
    "                                               'spectrogram.pt') \n",
    "                                  for local_path in local_path_list]\n"
   ]
  },
  {
   "cell_type": "code",
   "execution_count": 12,
   "id": "5cdc25fe",
   "metadata": {},
   "outputs": [],
   "source": [
    "import os\n",
    "\n",
    "# def find_rel_paths(directory, filename):\n",
    "#     for root, dirs, files in os.walk(directory):\n",
    "#         if filename in files:\n",
    "#             yield os.path.relpath(os.path.join(root, filename), directory)\n",
    "\n",
    "directory = '/usr/src/app/uberduck_ml_exp/lj/LJSpeech/'  # replace with your directory\n",
    "filename = 'gt.wav'  # replace with your filename\n",
    "\n",
    "for rel_path in find_rel_paths(directory, filename):\n",
    "    print(rel_path)"
   ]
  },
  {
   "cell_type": "code",
   "execution_count": 13,
   "id": "04f69f49",
   "metadata": {},
   "outputs": [
    {
     "data": {
      "text/plain": [
       "[]"
      ]
     },
     "execution_count": 13,
     "metadata": {},
     "output_type": "execute_result"
    }
   ],
   "source": [
    "list(find_rel_paths(directory, filename))\n",
    "list(os.walk(directory))\n",
    "rel_paths = list(find_rel_paths(directory, filename))\n",
    "rel_paths\n",
    "\n",
    "\n"
   ]
  },
  {
   "cell_type": "code",
   "execution_count": null,
   "id": "f5ce0f25",
   "metadata": {},
   "outputs": [],
   "source": [
    "print(\"resample and normalize\")\n",
    "MAX_WAV_VALUE = 32768\n",
    "sr = 22050\n",
    "loading_function = lambda filename : librosa.load(filename, sr = 22050)[0]\n",
    "function_ = lambda x : np.asarray((x / np.abs(x).max()) * (MAX_WAV_VALUE - 1), dtype = np.int16)\n",
    "saving_function = lambda data, filename  : write(filename, 22050, data) # must be in this order\n",
    "\n",
    "print(datetime.now())\n",
    "get(function_, loading_function, saving_function, local_path_list, resampled_normalized_path_list, False)\n",
    "print(datetime.now())"
   ]
  },
  {
   "cell_type": "code",
   "execution_count": null,
   "id": "ab2d5894",
   "metadata": {},
   "outputs": [],
   "source": [
    "print(\"compute pitches\")\n",
    "get_pitches(resampled_normalized_path_list, data_config, folder_path_list, method = 'radtts')"
   ]
  },
  {
   "cell_type": "code",
   "execution_count": null,
   "id": "08e86d85",
   "metadata": {},
   "outputs": [],
   "source": [
    "print(\"compute mels\")\n",
    "get_mels(resampled_normalized_path_list, data_config, spectrogram_path_list)"
   ]
  },
  {
   "cell_type": "code",
   "execution_count": null,
   "id": "b823cfd2",
   "metadata": {},
   "outputs": [],
   "source": []
  },
  {
   "cell_type": "code",
   "execution_count": null,
   "id": "2e51ab53",
   "metadata": {},
   "outputs": [],
   "source": []
  }
 ],
 "metadata": {
  "kernelspec": {
   "display_name": "Python 3",
   "language": "python",
   "name": "python3"
  },
  "language_info": {
   "codemirror_mode": {
    "name": "ipython",
    "version": 3
   },
   "file_extension": ".py",
   "mimetype": "text/x-python",
   "name": "python",
   "nbconvert_exporter": "python",
   "pygments_lexer": "ipython3",
   "version": "3.8.8"
  }
 },
 "nbformat": 4,
 "nbformat_minor": 5
}
