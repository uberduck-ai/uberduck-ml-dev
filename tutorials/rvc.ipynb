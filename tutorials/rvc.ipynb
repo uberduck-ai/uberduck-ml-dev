{
 "cells": [
  {
   "cell_type": "code",
   "execution_count": null,
   "id": "1165b6a2",
   "metadata": {},
   "outputs": [],
   "source": [
    "import os\n",
    "from scipy.io.wavfile import read, write\n",
    "import librosa\n",
    "import torch\n",
    "import numpy as np\n",
    "\n",
    "from uberduck_ml_dev.data.get import get\n",
    "from uberduck_ml_dev.data.utils import mel_spectrogram_torch, find_rel_paths\n",
    "from uberduck_ml_dev.data.data import HIFIGAN_DEFAULTS as DEFAULTS\n",
    "from uberduck_ml_dev.data.data import MAX_WAV_VALUE\n",
    "\n",
    "\n",
    "data_directory = \"/usr/src/app/uberduck_ml_exp/data/lj_redo/\"\n",
    "ground_truth_rel_paths = find_rel_paths(directory=data_directory, filename=\"gt.wav\")\n",
    "ground_truth_abs_paths = [\n",
    "    os.path.join(data_directory, ground_truth_rel_path)\n",
    "    for ground_truth_rel_path in ground_truth_rel_paths\n",
    "]\n",
    "\n",
    "resampled_normalized_abs_paths = [\n",
    "    resampled_normalized_abs_path.replace(\n",
    "        \"gt.wav\", \"audio_resampledT_normalized32768T.wav\"\n",
    "    )\n",
    "    for resampled_normalized_abs_path in ground_truth_abs_paths\n",
    "]\n",
    "\n",
    "spectrogram_abs_paths = [\n",
    "    ground_truth_abs_path.replace(\"gt.wav\", \"spectrogram.pt\")\n",
    "    for ground_truth_abs_path in ground_truth_abs_paths\n",
    "]\n",
    "\n",
    "resampled_float_normalized_abs_paths = [\n",
    "    ground_truth_abs_path.replace(\n",
    "        \"gt.wav\", \"audio_resampledT_normalized1T.wav\"\n",
    "    )\n",
    "    for ground_truth_abs_path in ground_truth_abs_paths\n",
    "]\n"
   ]
  }
 ],
 "metadata": {
  "kernelspec": {
   "display_name": "Python 3",
   "language": "python",
   "name": "python3"
  },
  "language_info": {
   "codemirror_mode": {
    "name": "ipython",
    "version": 3
   },
   "file_extension": ".py",
   "mimetype": "text/x-python",
   "name": "python",
   "nbconvert_exporter": "python",
   "pygments_lexer": "ipython3",
   "version": "3.8.10"
  }
 },
 "nbformat": 4,
 "nbformat_minor": 5
}
