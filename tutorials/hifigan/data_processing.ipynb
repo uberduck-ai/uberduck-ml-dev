{
 "cells": [
  {
   "cell_type": "code",
   "execution_count": 1,
   "id": "31ff64f5",
   "metadata": {},
   "outputs": [
    {
     "name": "stdout",
     "output_type": "stream",
     "text": [
      "resampling and integer/32768 normalizing spectrograms\n"
     ]
    }
   ],
   "source": [
    "import os\n",
    "from scipy.io.wavfile import read, write\n",
    "import librosa\n",
    "import torch\n",
    "import numpy as np\n",
    "\n",
    "from uberduck_ml_dev.data.get import get\n",
    "from uberduck_ml_dev.data.utils import mel_spectrogram_torch, find_rel_paths\n",
    "from uberduck_ml_dev.data.data import HIFIGAN_DEFAULTS as DEFAULTS\n",
    "from uberduck_ml_dev.data.data import MAX_WAV_VALUE\n",
    "\n",
    "\n",
    "data_directory = \"/usr/src/app/uberduck_ml_exp/data/lj_redo/\"\n",
    "ground_truth_rel_paths = find_rel_paths(directory=data_directory, filename=\"gt.wav\")\n",
    "ground_truth_abs_paths = [\n",
    "    os.path.join(data_directory, ground_truth_rel_path)\n",
    "    for ground_truth_rel_path in ground_truth_rel_paths\n",
    "]\n",
    "\n",
    "\n",
    "print(\"resampling and integer/32768 normalizing spectrograms\")\n",
    "\n",
    "resampled_normalized_abs_paths = [\n",
    "    resampled_normalized_abs_path.replace(\n",
    "        \"gt.wav\", \"audio_resampledT_normalized32768T.wav\"\n",
    "    )\n",
    "    for resampled_normalized_abs_path in ground_truth_abs_paths\n",
    "]\n",
    "\n",
    "loading_function = lambda filename: librosa.load(filename, sr=22050)[0]\n",
    "processing_function = lambda x: np.asarray(\n",
    "    (x / np.abs(x).max()) * (MAX_WAV_VALUE - 1), dtype=np.int16\n",
    ")\n",
    "saving_function = lambda data, filename: write(\n",
    "    filename, 22050, data\n",
    ")  # must be in this order\n",
    "\n"
   ]
  },
  {
   "cell_type": "code",
   "execution_count": 2,
   "id": "e25499df",
   "metadata": {},
   "outputs": [],
   "source": [
    "get(\n",
    "    processing_function,\n",
    "    saving_function,\n",
    "    loading_function,\n",
    "    ground_truth_abs_paths,\n",
    "    resampled_normalized_abs_paths,\n",
    "    True,\n",
    ")\n"
   ]
  },
  {
   "cell_type": "code",
   "execution_count": 5,
   "id": "b929c9e4",
   "metadata": {},
   "outputs": [
    {
     "ename": "SyntaxError",
     "evalue": "invalid syntax (<ipython-input-5-7d1692a358f3>, line 15)",
     "output_type": "error",
     "traceback": [
      "\u001b[0;36m  Cell \u001b[0;32mIn[5], line 15\u001b[0;36m\u001b[0m\n\u001b[0;31m    True,\u001b[0m\n\u001b[0m    ^\u001b[0m\n\u001b[0;31mSyntaxError\u001b[0m\u001b[0;31m:\u001b[0m invalid syntax\n"
     ]
    }
   ],
   "source": [
    "print(\"compute spectrograms\")\n",
    "\n",
    "spectrogram_abs_paths = [\n",
    "    ground_truth_abs_path.replace(\"gt.wav\", \"spectrogram.pt\")\n",
    "    for ground_truth_abs_path in ground_truth_abs_paths\n",
    "]\n",
    "processing_function = lambda x: mel_spectrogram_torch(\n",
    "    x,\n",
    "    DEFAULTS[\"n_fft\"],\n",
    "    DEFAULTS[\"sampling_rate\"],\n",
    "    DEFAULTS[\"hop_size\"],\n",
    "    DEFAULTS[\"win_size\"],\n",
    "    DEFAULTS[\"fmin\"],\n",
    "    DEFAULTS[\"fmax\"],\n",
    "    True,\n",
    ")\n",
    "loading_function = lambda source_path: read(source_path)[1]\n",
    "saving_function = lambda data, target_path: torch.save(target_path, data)\n",
    "\n",
    "get(\n",
    "    processing_function,\n",
    "    saving_function,\n",
    "    loading_function,\n",
    "    resampled_normalized_abs_paths,\n",
    "    spectrogram_abs_paths,\n",
    "    False,\n",
    ")\n"
   ]
  },
  {
   "cell_type": "code",
   "execution_count": 4,
   "id": "f61ca5e0",
   "metadata": {},
   "outputs": [
    {
     "data": {
      "text/plain": [
       "{'segment_size': 8192,\n",
       " 'num_mels': 80,\n",
       " 'n_fft': 1024,\n",
       " 'hop_size': 256,\n",
       " 'win_size': 1024,\n",
       " 'sampling_rate': 22050,\n",
       " 'fmin': 0,\n",
       " 'fmax': 8000,\n",
       " 'fmax_for_loss': None}"
      ]
     },
     "execution_count": 4,
     "metadata": {},
     "output_type": "execute_result"
    }
   ],
   "source": [
    "DEFAULTS"
   ]
  },
  {
   "cell_type": "code",
   "execution_count": null,
   "id": "84384561",
   "metadata": {},
   "outputs": [],
   "source": []
  }
 ],
 "metadata": {
  "kernelspec": {
   "display_name": "Python 3",
   "language": "python",
   "name": "python3"
  },
  "language_info": {
   "codemirror_mode": {
    "name": "ipython",
    "version": 3
   },
   "file_extension": ".py",
   "mimetype": "text/x-python",
   "name": "python",
   "nbconvert_exporter": "python",
   "pygments_lexer": "ipython3",
   "version": "3.8.10"
  }
 },
 "nbformat": 4,
 "nbformat_minor": 5
}
